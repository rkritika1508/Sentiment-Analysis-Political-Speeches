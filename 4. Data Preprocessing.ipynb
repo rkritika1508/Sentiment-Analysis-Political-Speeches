{
 "cells": [
  {
   "cell_type": "code",
   "execution_count": 32,
   "metadata": {},
   "outputs": [],
   "source": [
    "import numpy as np\n",
    "import pandas as pd\n",
    "import matplotlib.pyplot as plt\n",
    "import seaborn as sns\n",
    "import re\n",
    "import nltk\n",
    "%matplotlib inline"
   ]
  },
  {
   "cell_type": "code",
   "execution_count": 43,
   "metadata": {},
   "outputs": [
    {
     "data": {
      "text/html": [
       "<div>\n",
       "<style scoped>\n",
       "    .dataframe tbody tr th:only-of-type {\n",
       "        vertical-align: middle;\n",
       "    }\n",
       "\n",
       "    .dataframe tbody tr th {\n",
       "        vertical-align: top;\n",
       "    }\n",
       "\n",
       "    .dataframe thead th {\n",
       "        text-align: right;\n",
       "    }\n",
       "</style>\n",
       "<table border=\"1\" class=\"dataframe\">\n",
       "  <thead>\n",
       "    <tr style=\"text-align: right;\">\n",
       "      <th></th>\n",
       "      <th>Name</th>\n",
       "      <th>Date</th>\n",
       "    </tr>\n",
       "  </thead>\n",
       "  <tbody>\n",
       "    <tr>\n",
       "      <th>0</th>\n",
       "      <td>lsd_12_01_23-03-1998.pdf</td>\n",
       "      <td>23-Mar-1998</td>\n",
       "    </tr>\n",
       "    <tr>\n",
       "      <th>1</th>\n",
       "      <td>lsd_12_01_24-03-1998.pdf</td>\n",
       "      <td>24-Mar-1998</td>\n",
       "    </tr>\n",
       "    <tr>\n",
       "      <th>2</th>\n",
       "      <td>lsd_12_01_25-03-1998.pdf</td>\n",
       "      <td>25-Mar-1998</td>\n",
       "    </tr>\n",
       "    <tr>\n",
       "      <th>3</th>\n",
       "      <td>lsd_12_01_26-03-1998.pdf</td>\n",
       "      <td>26-Mar-1998</td>\n",
       "    </tr>\n",
       "    <tr>\n",
       "      <th>4</th>\n",
       "      <td>lsd_12_01_27-03-1998.pdf</td>\n",
       "      <td>27-Mar-1998</td>\n",
       "    </tr>\n",
       "  </tbody>\n",
       "</table>\n",
       "</div>"
      ],
      "text/plain": [
       "                       Name         Date\n",
       "0  lsd_12_01_23-03-1998.pdf  23-Mar-1998\n",
       "1  lsd_12_01_24-03-1998.pdf  24-Mar-1998\n",
       "2  lsd_12_01_25-03-1998.pdf  25-Mar-1998\n",
       "3  lsd_12_01_26-03-1998.pdf  26-Mar-1998\n",
       "4  lsd_12_01_27-03-1998.pdf  27-Mar-1998"
      ]
     },
     "execution_count": 43,
     "metadata": {},
     "output_type": "execute_result"
    }
   ],
   "source": [
    "df = pd.read_csv('pdf_links_main.csv', index_col = 0)\n",
    "df.head()"
   ]
  },
  {
   "cell_type": "code",
   "execution_count": 77,
   "metadata": {},
   "outputs": [
    {
     "data": {
      "text/plain": [
       "[4]"
      ]
     },
     "execution_count": 77,
     "metadata": {},
     "output_type": "execute_result"
    }
   ],
   "source": [
    "df.index[df['Name']=='lsd_12_01_27-03-1998.pdf'].tolist()"
   ]
  },
  {
   "cell_type": "code",
   "execution_count": 33,
   "metadata": {},
   "outputs": [],
   "source": [
    "from nltk.corpus import stopwords\n",
    "#set(stopwords.words('english'))"
   ]
  },
  {
   "cell_type": "code",
   "execution_count": 34,
   "metadata": {},
   "outputs": [],
   "source": [
    "import os\n",
    "file_list = os.listdir('text_files')"
   ]
  },
  {
   "cell_type": "code",
   "execution_count": 40,
   "metadata": {},
   "outputs": [
    {
     "data": {
      "text/plain": [
       "'01-03-2005_14.txt'"
      ]
     },
     "execution_count": 40,
     "metadata": {},
     "output_type": "execute_result"
    }
   ],
   "source": [
    "file_list[0]"
   ]
  },
  {
   "cell_type": "code",
   "execution_count": 48,
   "metadata": {},
   "outputs": [
    {
     "data": {
      "text/plain": [
       "'The Lok Sabha met at Eleven of the Clock'"
      ]
     },
     "execution_count": 48,
     "metadata": {},
     "output_type": "execute_result"
    }
   ],
   "source": [
    "def clean_text(text):\n",
    "    text = text.replace('\\n', '')\n",
    "    text = re.sub('\\(.*?\\)', '', text) #Replace all words enclosed in parentheses with empty string\n",
    "    text = re.sub(r'[^a-zA-Z0-9]', ' ', text) # Remove extra punctuations with spaces\n",
    "    text = \" \".join(text.split()) #Remove extra spaces\n",
    "    return text\n",
    "\n",
    "string = 'The Lok Sabha met at Eleven of the Clock(MR. SPEAKER in the Chair)'\n",
    "clean_text(string)"
   ]
  },
  {
   "cell_type": "code",
   "execution_count": 97,
   "metadata": {},
   "outputs": [],
   "source": [
    "def process_pdf(file):\n",
    "    f = open(file, 'r', encoding='utf-8')\n",
    "    data = {}\n",
    "    text = f.read()\n",
    "    index = 'LOK SABHA DEBATES'\n",
    "    last = 'OBSERVATION BY THE SPEAKER NOTICE OF MOTION FOR ADJOURNMENT'\n",
    "    text = clean_text(text)\n",
    "    # Every file had the first few pages as noise. The speeches start after the first occurence of the index string\n",
    "    text = text[text.find(index) + len(index) : ]\n",
    "    #Every session is started by a speaker\n",
    "    text = text[text.find('MR SPEAKER') : ]\n",
    "    text = text[:text.find(last)]\n",
    "    regex = '[A-Z]+[A-Z]+(?:\\s[A-Z]+)*' #Regex expression to extract the names of all the speakers in the session.\n",
    "    # The speakers name are all in uppercase letters in every PDF file.\n",
    "    \n",
    "    l = [(m.start(0), m.end(0)) for m in re.finditer(regex, text)]\n",
    "\n",
    "    #To create a dictionary of all the speeches of the session\n",
    "    for i in range(len(l)-1):\n",
    "        name = text[l[i][0]:l[i][1]-1]\n",
    "        temp = text[l[i][0]:l[i][1]] + text[l[i][1]:l[i+1][0]]\n",
    "        temp = temp.replace(name, '')\n",
    "        data[i] = {'name':name, 'text':temp}\n",
    "        print(data[i])\n",
    "\n",
    "    return data"
   ]
  },
  {
   "cell_type": "code",
   "execution_count": 98,
   "metadata": {},
   "outputs": [
    {
     "name": "stdout",
     "output_type": "stream",
     "text": [
      "{'name': 'MR SPEAKER ', 'text': 'I have received the notice for Adjournment Motion from the hon Leader of the Opposition I will hear him after the Question Hour Sir I have already given a notice for suspension of Question Hour '}\n",
      "{'name': 'MR SPEAKER ', 'text': 'Okay I am prepared to hear him on the admissibility of the Adjournment Motion '}\n",
      "{'name': 'MR SPEAKER ', 'text': 'Please let us have some order I have permitted him to speak When I have permitted him to speak you should not interrupt '}\n",
      "{'name': 'MR SPEAKER ', 'text': 'Let us have some method of functioning I have permitted him Please do not interrupt '}\n",
      "{'name': 'MR SPEAKER ', 'text': 'This is an important matter Let us discuss it in a manner which is consistent with the dignity of the House 1967 '}\n",
      "{'name': 'SHRI MADHUSUDAN MISTRY ', 'text': 'Sir they are making a statement He should speak on admissibility '}\n",
      "{'name': 'MR SPEAKER ', 'text': 'I will try to answer '}\n",
      "{'name': 'MR SPEAKER ', 'text': 'Shri Advaniji not on merits '}\n",
      "{'name': 'MR SPEAKER ', 'text': 'Why this impatience Let me say that I will give full opportunity to you Shri Advaniji please speak on the admissibility '}\n",
      "{'name': 'SHRI L K ADVANI ', 'text': 'Sir I am not going on merits There are three aspects to the situation I am confining myself to the situation in Goa about which I would say a democratically elected Government was asked to prove its majority on the floor of the House but immediately after he proved his majority '}\n",
      "{'name': 'SHRI PAWAN KUMAR BANSAL ', 'text': 'What did the Speaker do there '}\n",
      "{'name': 'MR SPEAKER ', 'text': 'Shri Bansal do you want to say something on the admissibility '}\n",
      "{'name': 'SHRI PAWAN KUMAR BANSAL ', 'text': 'Yes sir '}\n",
      "{'name': 'MR SPEAKER ', 'text': 'Advaniji please speak on the admissibility not on merits '}\n",
      "{'name': 'SHRI L K ADVANI ', 'text': 'Sir the second situation is that the law against defections approved by Parliament has been reduced to a fallacy by a devious device that has been found out to make Members resign from the Assembly and a House of 40 has been reduced to a House of 34 '}\n",
      "{'name': 'MR SPEAKER ', 'text': 'I will request you to please speak on the admissibility '}\n",
      "{'name': 'SHRI L K ADVANI ', 'text': 'Today the Government is at a standstill The whole Government administration is paralysed Therefore I would plead with the Government here personally we have spoken to the Home Minister to the Defence Minister to the Prime Minister that in a situation of the kind which obtains in Goa the best course would be to go to the people Let us go to the people and let the people decide I do not know what is going to happen in Goa Every day some thing new happens which makes me feel sad about the manner in which all these provisions of the Constitution '}\n",
      "{'name': 'MR SPEAKER ', 'text': 'At the moment Advaniji I am only concerned with the admissibility of the Adjournment Motion I am not making any comment on the importance '}\n",
      "{'name': 'SHRI L K ADVANI ', 'text': 'If a Governor dismisses a Government unconstitutionally that is sufficient for a substantive motion The Central Government fails to do its duty in that regard that itself is sufficient '}\n",
      "{'name': 'MR SPEAKER ', 'text': 'I have to take a decision sitting here '}\n",
      "{'name': 'SHRI L K ADVANI ', 'text': 'The point is that the people are absolutely agitated over this This House also feels that first and foremost issue that should be taken up is this '}\n",
      "{'name': 'MR SPEAKER ', 'text': 'Please sit down I will try to regulate the matter You cannot speak any time you choose Please sit down I am asking the Leader of the House to speak I will hear you if you want to speak I am asking you to speak only on admissibility '}\n",
      "{'name': 'THE MINISTER OF DEFENCE ', 'text': 'Mr Speaker Sir the subject before the House right now is whether the notice of Adjournment Motion is admissible or not You are to decide whether the notice of Adjournment Motion given by some hon Members will be admissible or not I am not going to comment on the admissibility of the Adjournment Motion I have only two points to make The Leader of Opposition has referred to me '}\n",
      "{'name': 'MR SPEAKER ', 'text': 'He has said many things apart from the admissibility '}\n",
      "{'name': 'SHRI PRANAB MUKHERJEE ', 'text': 'The Leader of Opposition has said that he had a talk with me he had a talk with the Home Minister and he had a talk with the Prime Minister If he had not referred to me I would not have risen to make any comment on the notice of the Motion But my most respectful submission is that even the beginning has a beginning What has happened in Goa is definitely deplorable and we are sad that the democratic process in the State has been affected But before we come to the decision of the Governor we shall have to go into the picture of what happened in the Assembly itself When a Motion of Confidence was to be sought for and when the Governor wanted to ascertain the strength of the Legislative Assembly from the secretariat of the Speaker the Speaker submitted a list of the Members of the House to the Governor It was found when they were asked to decide about the confidence motion that suddenly one Member was dismissed and he was finally removed from the House '}\n",
      "{'name': 'MR SPEAKER ', 'text': 'Let us not go into this '}\n",
      "{'name': 'PROF VIJAY KUMAR MALHOTRA ', 'text': 'Is this relevant to the admissibility '}\n",
      "{'name': 'SHRI PRANAB MUKHERJEE ', 'text': 'Artificial majority was attempted to be created Therefore before discussing the conduct of the Governor we should look into this aspect also '}\n",
      "{'name': 'MAJ GEN B C KHANDURI ', 'text': 'Advaniji was not allowed to speak he was constantly disturbed '}\n",
      "{'name': 'MR SPEAKER ', 'text': 'I have allowed him to say whatever he wanted to say '}\n",
      "{'name': 'MR SPEAKER ', 'text': 'I appeal to you Let us have some decorum in the House and you speak one by one '}\n",
      "{'name': 'MR SPEAKER ', 'text': 'You are dictating all the time to the Chair Please do not do it '}\n",
      "{'name': 'MR SPEAKER ', 'text': 'He has referred to the Governor I will have to see how far it is admissible '}\n",
      "{'name': 'MAJ GEN B C KHANDURI ', 'text': 'When Advaniji was speaking you were reminding him that he should speak only on the admissibility Why are you not reminding the Leader of the House '}\n",
      "{'name': 'MR SPEAKER ', 'text': 'What he has said is on record Please all the time do not dictate to the Chair '}\n",
      "{'name': 'PROF VIJAY KUMAR MALHOTRA ', 'text': 'They are dictating to the Chair not we '}\n",
      "{'name': 'MR SPEAKER ', 'text': 'Whoever dictates I resent it You can suggest a course of action certainly So far I wanted to hear about the admissibility My view is my opinion my ruling is that this notice of Adjournment Motion is not admissible I am giving my ruling if you are prepared to listen When the Congress party says it has no objection for discussion what is the problem '}\n",
      "{'name': 'MR SPEAKER ', 'text': 'No I cannot permit it We cannot be silent spectators We cannot be spectators '}\n",
      "{'name': 'MR SPEAKER ', 'text': 'Hon Members may I make a request '}\n",
      "{'name': 'MR SPEAKER ', 'text': 'Hon Members I am respecting your wishes Kindly listen to me Give me a little opportunity '}\n",
      "{'name': 'MR SPEAKER ', 'text': 'You speak whenever I request you or allow you to speak At the moment will you take your seats '}\n",
      "{'name': 'MR SPEAKER ', 'text': 'Please take your seat You have not given any Adjournment Motion You cannot speak on somebody else s Motion '}\n",
      "{'name': 'MR SPEAKER ', 'text': 'Hon Members I am not minimising the importance of the issue that has been raised I shall be very happy if it is discussed on the floor of the House '}\n",
      "{'name': 'MR SPEAKER ', 'text': 'This is very unfortunate You are all senior Members Please listen '}\n",
      "{'name': 'MR SPEAKER ', 'text': 'Shri Mohan Singh I do not expect this from you Please listen I myself said that it is an important matter to be discussed on the floor of the House '}\n",
      "{'name': 'MR SPEAKER ', 'text': 'I am only concerned at the moment sitting in this Chair about the admissibility of the Adjournment Motion I am giving the ruling This is not permissible Why is it not admissible There are other rules applicable You can take recourse to those rules for the purpose of discussion Do not teach me '}\n",
      "{'name': 'PROF VIJAY KUMAR MALHOTRA ', 'text': 'It can only be done by Adjournment Motion '}\n",
      "{'name': 'MR SPEAKER ', 'text': 'Nothing will be recorded Not Recorded '}\n",
      "{'name': 'MR SPEAKER ', 'text': 'It is very unfortunate The Speaker is not allowed even to give his ruling This is the position of Lok Sabha today '}\n",
      "{'name': 'MR SPEAKER ', 'text': 'I am appealing to all the senior leaders of all sides '}\n",
      "{'name': 'MR SPEAKER ', 'text': 'I am appealing to every hon Member '}\n",
      "{'name': 'MR SPEAKER ', 'text': 'There is an important question Q No 1 on Tsunami disaster 11 15 hrs '}\n"
     ]
    }
   ],
   "source": [
    "data = process_pdf('text_files/' + file_list[0])"
   ]
  },
  {
   "cell_type": "code",
   "execution_count": 21,
   "metadata": {},
   "outputs": [],
   "source": [
    "for file in file_list[:20]:\n",
    "    path = 'text_files/' + file\n",
    "    f = open(path, 'r', encoding='utf-8')\n",
    "    text = f.read()\n",
    "    text = clean_text(text)\n",
    "    f.close()\n",
    "    f = open('clean_text_files/' + file, 'w', encoding='utf-8')\n",
    "    f.write(text)\n",
    "    f.close()"
   ]
  },
  {
   "cell_type": "code",
   "execution_count": null,
   "metadata": {},
   "outputs": [],
   "source": []
  }
 ],
 "metadata": {
  "kernelspec": {
   "display_name": "Python 3",
   "language": "python",
   "name": "python3"
  },
  "language_info": {
   "codemirror_mode": {
    "name": "ipython",
    "version": 3
   },
   "file_extension": ".py",
   "mimetype": "text/x-python",
   "name": "python",
   "nbconvert_exporter": "python",
   "pygments_lexer": "ipython3",
   "version": "3.7.3"
  }
 },
 "nbformat": 4,
 "nbformat_minor": 2
}
