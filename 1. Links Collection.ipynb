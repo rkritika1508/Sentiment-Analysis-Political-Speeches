{
 "cells": [
  {
   "cell_type": "markdown",
   "metadata": {},
   "source": [
    "Sample:\n",
    "\n",
    "Link: https://eparlib.nic.in/handle/123456789/6/browse?page-token=2d1d323f8c3e&page-token-value=736c7528ed63b9874a20690824001b9d&type=loksabhanumber&submit_browse=Lok+Sabha+Number\n",
    "\n",
    "Main page of all lok sabhas (1-16) ---> speeches list ----> get their links -----> open the links ----> download the pdfs \n",
    "\n",
    "This notebook has the code to collect all the links of the the web pages of the sessions. "
   ]
  },
  {
   "cell_type": "code",
   "execution_count": 1,
   "metadata": {},
   "outputs": [],
   "source": [
    "import numpy as np\n",
    "import pandas as pd\n",
    "import matplotlib.pyplot as plt\n",
    "import seaborn as sns\n",
    "from bs4 import BeautifulSoup\n",
    "import requests\n",
    "import math\n",
    "%matplotlib inline"
   ]
  },
  {
   "cell_type": "code",
   "execution_count": 2,
   "metadata": {},
   "outputs": [],
   "source": [
    "import warnings\n",
    "warnings.filterwarnings('ignore')"
   ]
  },
  {
   "cell_type": "code",
   "execution_count": 3,
   "metadata": {},
   "outputs": [],
   "source": [
    "website = 'https://eparlib.nic.in/handle/123456789/6/browse?page-token=ccdcdf0f8ccb&page-token-value=5f621e68b55db83daa4ebdcd11624225&type=loksabhanumber&submit_browse=Lok+Sabha+Number'\n",
    "\n",
    "page = requests.get(website, stream=True, verify=False)\n",
    "soup = BeautifulSoup(page.text, 'html.parser')"
   ]
  },
  {
   "cell_type": "code",
   "execution_count": 4,
   "metadata": {},
   "outputs": [],
   "source": [
    "sessions_link = soup.findAll(class_='list-group-item')"
   ]
  },
  {
   "cell_type": "code",
   "execution_count": 5,
   "metadata": {},
   "outputs": [],
   "source": [
    "links = []\n",
    "values = []\n",
    "for link in sessions_link:\n",
    "    links.append('https://eparlib.nic.in' + link.find('a')['href'])    \n",
    "    values.append(link.find('span', class_='badge').contents[0])"
   ]
  },
  {
   "cell_type": "code",
   "execution_count": 6,
   "metadata": {},
   "outputs": [
    {
     "data": {
      "text/plain": [
       "['https://eparlib.nic.in/handle/123456789/6/browse?type=loksabhanumber&order=ASC&rpp=20&value=12',\n",
       " 'https://eparlib.nic.in/handle/123456789/6/browse?type=loksabhanumber&order=ASC&rpp=20&value=13',\n",
       " 'https://eparlib.nic.in/handle/123456789/6/browse?type=loksabhanumber&order=ASC&rpp=20&value=14',\n",
       " 'https://eparlib.nic.in/handle/123456789/6/browse?type=loksabhanumber&order=ASC&rpp=20&value=15',\n",
       " 'https://eparlib.nic.in/handle/123456789/6/browse?type=loksabhanumber&order=ASC&rpp=20&value=16']"
      ]
     },
     "execution_count": 6,
     "metadata": {},
     "output_type": "execute_result"
    }
   ],
   "source": [
    "links = links[11:]\n",
    "links"
   ]
  },
  {
   "cell_type": "code",
   "execution_count": 7,
   "metadata": {},
   "outputs": [
    {
     "data": {
      "text/plain": [
       "['88', '523', '331', '357', '331']"
      ]
     },
     "execution_count": 7,
     "metadata": {},
     "output_type": "execute_result"
    }
   ],
   "source": [
    "values = values[11:]\n",
    "values"
   ]
  },
  {
   "cell_type": "code",
   "execution_count": 8,
   "metadata": {},
   "outputs": [
    {
     "name": "stdout",
     "output_type": "stream",
     "text": [
      "1630\n"
     ]
    }
   ],
   "source": [
    "s = 0\n",
    "for value in values:\n",
    "    value = int(value)\n",
    "    s += value\n",
    "print(s)"
   ]
  },
  {
   "cell_type": "code",
   "execution_count": 36,
   "metadata": {},
   "outputs": [],
   "source": [
    "def get_transcripts_links_session(link, value):\n",
    "    total_pages = math.ceil(int(value)/20)\n",
    "    count = 0\n",
    "    all_index_pages = [link]\n",
    "    all_pages = []\n",
    "    k = 1\n",
    "    while count<total_pages:\n",
    "        try:\n",
    "            page = requests.get(link, stream=True, verify=False)\n",
    "            soup = BeautifulSoup(page.text, 'html.parser')\n",
    "            next_page_link = soup.find('a', class_='pull-right')['href']\n",
    "            #print(next_page_link)\n",
    "            link = 'https://eparlib.nic.in'+ next_page_link\n",
    "            all_index_pages.append(link)\n",
    "        except TypeError:\n",
    "            k = 1\n",
    "        count += 1\n",
    "    count = 0\n",
    "    for link in all_index_pages:\n",
    "        page = requests.get(link, stream=True, verify=False)\n",
    "        soup = BeautifulSoup(page.text, 'html.parser')\n",
    "        table = soup.find('table', {'class':'panel'})\n",
    "        table_links = table.findAll('a')\n",
    "        for web_link in table_links:\n",
    "            count += 1\n",
    "            #print(count, web_link.get('href'))\n",
    "            all_pages.append(web_link.get('href'))\n",
    "    return all_pages"
   ]
  },
  {
   "cell_type": "code",
   "execution_count": 37,
   "metadata": {},
   "outputs": [
    {
     "data": {
      "text/plain": [
       "'/handle/123456789/758034?view_type=browse'"
      ]
     },
     "execution_count": 37,
     "metadata": {},
     "output_type": "execute_result"
    }
   ],
   "source": [
    "url = 'https://eparlib.nic.in/handle/123456789/6/browse?type=loksabhanumber&order=ASC&rpp=20&value=12'\n",
    "page = requests.get(link, stream=True, verify=False)\n",
    "soup = BeautifulSoup(page.text, 'html.parser')\n",
    "table = soup.find('table', {'class':'panel'})\n",
    "table.findAll('a')[0].get('href')"
   ]
  },
  {
   "cell_type": "code",
   "execution_count": 38,
   "metadata": {},
   "outputs": [
    {
     "name": "stdout",
     "output_type": "stream",
     "text": [
      "1 2 3 4 5 "
     ]
    }
   ],
   "source": [
    "all_pages = []\n",
    "count = 0\n",
    "for link in links:\n",
    "    temp_pages = get_transcripts_links_session(link, values[count])\n",
    "    all_pages += temp_pages\n",
    "    count += 1 \n",
    "    print(count, end=\" \")"
   ]
  },
  {
   "cell_type": "code",
   "execution_count": 39,
   "metadata": {},
   "outputs": [],
   "source": [
    "df = pd.DataFrame(all_pages)"
   ]
  },
  {
   "cell_type": "code",
   "execution_count": 40,
   "metadata": {},
   "outputs": [
    {
     "name": "stdout",
     "output_type": "stream",
     "text": [
      "<class 'pandas.core.frame.DataFrame'>\n",
      "RangeIndex: 1630 entries, 0 to 1629\n",
      "Data columns (total 1 columns):\n",
      "0    1630 non-null object\n",
      "dtypes: object(1)\n",
      "memory usage: 12.8+ KB\n"
     ]
    }
   ],
   "source": [
    "df.info()"
   ]
  },
  {
   "cell_type": "code",
   "execution_count": 41,
   "metadata": {},
   "outputs": [],
   "source": [
    "df.to_csv('pages.csv')"
   ]
  },
  {
   "cell_type": "code",
   "execution_count": null,
   "metadata": {},
   "outputs": [],
   "source": []
  }
 ],
 "metadata": {
  "kernelspec": {
   "display_name": "Python 3",
   "language": "python",
   "name": "python3"
  },
  "language_info": {
   "codemirror_mode": {
    "name": "ipython",
    "version": 3
   },
   "file_extension": ".py",
   "mimetype": "text/x-python",
   "name": "python",
   "nbconvert_exporter": "python",
   "pygments_lexer": "ipython3",
   "version": "3.7.3"
  }
 },
 "nbformat": 4,
 "nbformat_minor": 2
}
